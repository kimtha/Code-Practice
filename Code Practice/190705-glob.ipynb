{
 "cells": [
  {
   "cell_type": "code",
   "execution_count": 1,
   "metadata": {
    "collapsed": true
   },
   "outputs": [],
   "source": [
    "import glob"
   ]
  },
  {
   "cell_type": "code",
   "execution_count": 2,
   "metadata": {
    "collapsed": true
   },
   "outputs": [],
   "source": [
    "test=glob.glob(\"./data/*\")"
   ]
  },
  {
   "cell_type": "code",
   "execution_count": 3,
   "metadata": {},
   "outputs": [
    {
     "name": "stdout",
     "output_type": "stream",
     "text": [
      "['./data/fertility_data.csv', './data/190626-01-A-bottom.csv', './data/iris_data.csv', './data/child_mortality_data.csv', './data/FEV_data.csv', './data/190626-01-E-bottom.csv', './data/Iris_virginica_data.csv', './data/Iris_setosa_data.csv', './data/glass_properties_data.csv', './data/Iris_versicolor_data.csv']\n"
     ]
    }
   ],
   "source": [
    "print(test)"
   ]
  },
  {
   "cell_type": "code",
   "execution_count": 6,
   "metadata": {},
   "outputs": [
    {
     "name": "stdout",
     "output_type": "stream",
     "text": [
      "['./data/Iris_virginica_data.csv', './data/Iris_setosa_data.csv', './data/Iris_versicolor_data.csv']\n"
     ]
    }
   ],
   "source": [
    "test2=glob.glob(\"./data/Iris*.csv\")\n",
    "print(test2)"
   ]
  },
  {
   "cell_type": "code",
   "execution_count": 8,
   "metadata": {},
   "outputs": [
    {
     "name": "stdout",
     "output_type": "stream",
     "text": [
      "['/home/eleanor/Documents/aedes-aegypti-2020/data/trajectories/video_csvs/190626-03-A-top.csv', '/home/eleanor/Documents/aedes-aegypti-2020/data/trajectories/video_csvs/190626-06-A-bottom.csv', '/home/eleanor/Documents/aedes-aegypti-2020/data/trajectories/video_csvs/190626-06-A-top.csv', '/home/eleanor/Documents/aedes-aegypti-2020/data/trajectories/video_csvs/190626-01-A-bottom.csv', '/home/eleanor/Documents/aedes-aegypti-2020/data/trajectories/video_csvs/190626-04-A-bottom.csv', '/home/eleanor/Documents/aedes-aegypti-2020/data/trajectories/video_csvs/190626-05-A-top.csv', '/home/eleanor/Documents/aedes-aegypti-2020/data/trajectories/video_csvs/190626-04-A-top.csv', '/home/eleanor/Documents/aedes-aegypti-2020/data/trajectories/video_csvs/190626-03-A-bottom.csv', '/home/eleanor/Documents/aedes-aegypti-2020/data/trajectories/video_csvs/190626-02-A-top.csv', '/home/eleanor/Documents/aedes-aegypti-2020/data/trajectories/video_csvs/190626-02-A-bottom.csv', '/home/eleanor/Documents/aedes-aegypti-2020/data/trajectories/video_csvs/190626-05-A-bottom.csv', '/home/eleanor/Documents/aedes-aegypti-2020/data/trajectories/video_csvs/190626-01-A-top.csv']\n"
     ]
    }
   ],
   "source": [
    "animals=glob.glob(\"/home/eleanor/Documents/aedes-aegypti-2020/data/trajectories/video_csvs/*-A-*\")\n",
    "print(animals)"
   ]
  },
  {
   "cell_type": "code",
   "execution_count": 25,
   "metadata": {},
   "outputs": [
    {
     "name": "stdout",
     "output_type": "stream",
     "text": [
      "/home/eleanor/Documents/aedes-aegypti-2020/data/trajectories/video_csvs/190626-03-A-top.csv\n",
      "['', 'home', 'eleanor', 'Documents', 'aedes-aegypti-2020', 'data', 'trajectories', 'video_csvs', '190626-03-A-top.csv']\n",
      "190626-03-A-top.csv\n",
      "['190626-03-A-top.csv', '190626-06-A-bottom.csv', '190626-06-A-top.csv', '190626-01-A-bottom.csv', '190626-04-A-bottom.csv', '190626-05-A-top.csv', '190626-04-A-top.csv', '190626-03-A-bottom.csv', '190626-02-A-top.csv', '190626-02-A-bottom.csv', '190626-05-A-bottom.csv', '190626-01-A-top.csv']\n",
      "190626-03-A-top.csv\n",
      "190626-03-A-top\n",
      "190626-03-top\n"
     ]
    }
   ],
   "source": [
    "x=animals[0]\n",
    "print(x)\n",
    "y=x.split(\"/\")\n",
    "print(y)\n",
    "a=x.split(\"/\")[-1]\n",
    "print(a)\n",
    "animals2=[x.split(\"/\")[-1] for x in animals]\n",
    "print(animals2)\n",
    "test=animals2[0]\n",
    "print(test)\n",
    "test2=test.replace(\".csv\",\"\")\n",
    "print(test2)\n",
    "test3=test2.replace(\"-A\",\"\")\n",
    "print(test3)"
   ]
  },
  {
   "cell_type": "code",
   "execution_count": 20,
   "metadata": {},
   "outputs": [
    {
     "name": "stdout",
     "output_type": "stream",
     "text": [
      "['190626-03-A-top', '190626-06-A-bottom', '190626-06-A-top', '190626-01-A-bottom', '190626-04-A-bottom', '190626-05-A-top', '190626-04-A-top', '190626-03-A-bottom', '190626-02-A-top', '190626-02-A-bottom', '190626-05-A-bottom', '190626-01-A-top']\n"
     ]
    }
   ],
   "source": [
    "animals3=[test.replace(\".csv\",\"\") for test in animals2]\n",
    "print(animals3)"
   ]
  },
  {
   "cell_type": "code",
   "execution_count": 24,
   "metadata": {},
   "outputs": [
    {
     "name": "stdout",
     "output_type": "stream",
     "text": [
      "['190626-03-top', '190626-06-bottom', '190626-06-top', '190626-01-bottom', '190626-04-bottom', '190626-05-top', '190626-04-top', '190626-03-bottom', '190626-02-top', '190626-02-bottom', '190626-05-bottom', '190626-01-top']\n"
     ]
    }
   ],
   "source": [
    "animals4=[x.replace(\"-A\",\"\") for x in animals3]\n",
    "print(animals4)"
   ]
  },
  {
   "cell_type": "code",
   "execution_count": null,
   "metadata": {
    "collapsed": true
   },
   "outputs": [],
   "source": []
  }
 ],
 "metadata": {
  "kernelspec": {
   "display_name": "Python 3",
   "language": "python",
   "name": "python3"
  },
  "language_info": {
   "codemirror_mode": {
    "name": "ipython",
    "version": 3
   },
   "file_extension": ".py",
   "mimetype": "text/x-python",
   "name": "python",
   "nbconvert_exporter": "python",
   "pygments_lexer": "ipython3",
   "version": "3.5.2"
  }
 },
 "nbformat": 4,
 "nbformat_minor": 2
}
