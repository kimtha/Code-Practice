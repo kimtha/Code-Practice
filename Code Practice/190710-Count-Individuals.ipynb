{
 "cells": [
  {
   "cell_type": "code",
   "execution_count": 2,
   "metadata": {
    "collapsed": true
   },
   "outputs": [],
   "source": [
    "import pandas as pd\n",
    "import numpy as np\n",
    "import matplotlib.pyplot as plt\n",
    "import glob\n",
    "%matplotlib inline"
   ]
  },
  {
   "cell_type": "code",
   "execution_count": 9,
   "metadata": {},
   "outputs": [
    {
     "data": {
      "text/html": [
       "<div>\n",
       "<style>\n",
       "    .dataframe thead tr:only-child th {\n",
       "        text-align: right;\n",
       "    }\n",
       "\n",
       "    .dataframe thead th {\n",
       "        text-align: left;\n",
       "    }\n",
       "\n",
       "    .dataframe tbody tr th {\n",
       "        vertical-align: top;\n",
       "    }\n",
       "</style>\n",
       "<table border=\"1\" class=\"dataframe\">\n",
       "  <thead>\n",
       "    <tr style=\"text-align: right;\">\n",
       "      <th></th>\n",
       "      <th>animal_ID</th>\n",
       "      <th>treatment_odor</th>\n",
       "      <th>experiment_date</th>\n",
       "      <th>acclimate_start</th>\n",
       "      <th>experiment_start</th>\n",
       "      <th>sex</th>\n",
       "      <th>dead</th>\n",
       "      <th>starve_date</th>\n",
       "      <th>starve_time</th>\n",
       "      <th>species</th>\n",
       "    </tr>\n",
       "  </thead>\n",
       "  <tbody>\n",
       "    <tr>\n",
       "      <th>0</th>\n",
       "      <td>190626-01-top</td>\n",
       "      <td>100ul_milliQ_water</td>\n",
       "      <td>190626</td>\n",
       "      <td>12:34:00 PM</td>\n",
       "      <td>12:51:00 PM</td>\n",
       "      <td>f</td>\n",
       "      <td>no</td>\n",
       "      <td>190625</td>\n",
       "      <td>09:09:00 AM</td>\n",
       "      <td>Aedes aegypti</td>\n",
       "    </tr>\n",
       "    <tr>\n",
       "      <th>1</th>\n",
       "      <td>190626-01-bottom</td>\n",
       "      <td>100ul_milliQ_water</td>\n",
       "      <td>190626</td>\n",
       "      <td>12:34:00 PM</td>\n",
       "      <td>12:51:00 PM</td>\n",
       "      <td>f</td>\n",
       "      <td>no</td>\n",
       "      <td>190625</td>\n",
       "      <td>09:09:00 AM</td>\n",
       "      <td>Aedes aegypti</td>\n",
       "    </tr>\n",
       "    <tr>\n",
       "      <th>2</th>\n",
       "      <td>190626-02-top</td>\n",
       "      <td>100ul_milliQ_water</td>\n",
       "      <td>190626</td>\n",
       "      <td>01:15:00 PM</td>\n",
       "      <td>01:31:00 PM</td>\n",
       "      <td>m</td>\n",
       "      <td>no</td>\n",
       "      <td>190625</td>\n",
       "      <td>09:09:00 AM</td>\n",
       "      <td>Aedes aegypti</td>\n",
       "    </tr>\n",
       "    <tr>\n",
       "      <th>3</th>\n",
       "      <td>190626-02-bottom</td>\n",
       "      <td>100ul_milliQ_water</td>\n",
       "      <td>190626</td>\n",
       "      <td>01:15:00 PM</td>\n",
       "      <td>01:31:00 PM</td>\n",
       "      <td>m</td>\n",
       "      <td>no</td>\n",
       "      <td>190625</td>\n",
       "      <td>09:09:00 AM</td>\n",
       "      <td>Aedes aegypti</td>\n",
       "    </tr>\n",
       "    <tr>\n",
       "      <th>4</th>\n",
       "      <td>190626-03-top</td>\n",
       "      <td>100ul_milliQ_water</td>\n",
       "      <td>190626</td>\n",
       "      <td>01:52:00 PM</td>\n",
       "      <td>02:08:00 PM</td>\n",
       "      <td>missing</td>\n",
       "      <td>no</td>\n",
       "      <td>190625</td>\n",
       "      <td>09:09:00 AM</td>\n",
       "      <td>Aedes aegypti</td>\n",
       "    </tr>\n",
       "  </tbody>\n",
       "</table>\n",
       "</div>"
      ],
      "text/plain": [
       "          animal_ID      treatment_odor  experiment_date acclimate_start  \\\n",
       "0     190626-01-top  100ul_milliQ_water           190626     12:34:00 PM   \n",
       "1  190626-01-bottom  100ul_milliQ_water           190626     12:34:00 PM   \n",
       "2     190626-02-top  100ul_milliQ_water           190626     01:15:00 PM   \n",
       "3  190626-02-bottom  100ul_milliQ_water           190626     01:15:00 PM   \n",
       "4     190626-03-top  100ul_milliQ_water           190626     01:52:00 PM   \n",
       "\n",
       "  experiment_start      sex dead  starve_date  starve_time        species  \n",
       "0      12:51:00 PM        f   no       190625  09:09:00 AM  Aedes aegypti  \n",
       "1      12:51:00 PM        f   no       190625  09:09:00 AM  Aedes aegypti  \n",
       "2      01:31:00 PM        m   no       190625  09:09:00 AM  Aedes aegypti  \n",
       "3      01:31:00 PM        m   no       190625  09:09:00 AM  Aedes aegypti  \n",
       "4      02:08:00 PM  missing   no       190625  09:09:00 AM  Aedes aegypti  "
      ]
     },
     "execution_count": 9,
     "metadata": {},
     "output_type": "execute_result"
    }
   ],
   "source": [
    "df=pd.read_csv('/home/eleanor/Desktop/static_data.csv')\n",
    "df.head()"
   ]
  },
  {
   "cell_type": "code",
   "execution_count": 13,
   "metadata": {
    "collapsed": true
   },
   "outputs": [],
   "source": [
    "aegypti=df[ df[\"species\"]==\"Aedes aegypti\"]"
   ]
  },
  {
   "cell_type": "code",
   "execution_count": 11,
   "metadata": {},
   "outputs": [
    {
     "data": {
      "text/html": [
       "<div>\n",
       "<style>\n",
       "    .dataframe thead tr:only-child th {\n",
       "        text-align: right;\n",
       "    }\n",
       "\n",
       "    .dataframe thead th {\n",
       "        text-align: left;\n",
       "    }\n",
       "\n",
       "    .dataframe tbody tr th {\n",
       "        vertical-align: top;\n",
       "    }\n",
       "</style>\n",
       "<table border=\"1\" class=\"dataframe\">\n",
       "  <thead>\n",
       "    <tr style=\"text-align: right;\">\n",
       "      <th></th>\n",
       "      <th>animal_ID</th>\n",
       "      <th>treatment_odor</th>\n",
       "      <th>experiment_date</th>\n",
       "      <th>acclimate_start</th>\n",
       "      <th>experiment_start</th>\n",
       "      <th>sex</th>\n",
       "      <th>dead</th>\n",
       "      <th>starve_date</th>\n",
       "      <th>starve_time</th>\n",
       "      <th>species</th>\n",
       "    </tr>\n",
       "  </thead>\n",
       "  <tbody>\n",
       "    <tr>\n",
       "      <th>0</th>\n",
       "      <td>190626-01-top</td>\n",
       "      <td>100ul_milliQ_water</td>\n",
       "      <td>190626</td>\n",
       "      <td>12:34:00 PM</td>\n",
       "      <td>12:51:00 PM</td>\n",
       "      <td>f</td>\n",
       "      <td>no</td>\n",
       "      <td>190625</td>\n",
       "      <td>09:09:00 AM</td>\n",
       "      <td>Aedes aegypti</td>\n",
       "    </tr>\n",
       "    <tr>\n",
       "      <th>1</th>\n",
       "      <td>190626-01-bottom</td>\n",
       "      <td>100ul_milliQ_water</td>\n",
       "      <td>190626</td>\n",
       "      <td>12:34:00 PM</td>\n",
       "      <td>12:51:00 PM</td>\n",
       "      <td>f</td>\n",
       "      <td>no</td>\n",
       "      <td>190625</td>\n",
       "      <td>09:09:00 AM</td>\n",
       "      <td>Aedes aegypti</td>\n",
       "    </tr>\n",
       "    <tr>\n",
       "      <th>2</th>\n",
       "      <td>190626-02-top</td>\n",
       "      <td>100ul_milliQ_water</td>\n",
       "      <td>190626</td>\n",
       "      <td>01:15:00 PM</td>\n",
       "      <td>01:31:00 PM</td>\n",
       "      <td>m</td>\n",
       "      <td>no</td>\n",
       "      <td>190625</td>\n",
       "      <td>09:09:00 AM</td>\n",
       "      <td>Aedes aegypti</td>\n",
       "    </tr>\n",
       "    <tr>\n",
       "      <th>3</th>\n",
       "      <td>190626-02-bottom</td>\n",
       "      <td>100ul_milliQ_water</td>\n",
       "      <td>190626</td>\n",
       "      <td>01:15:00 PM</td>\n",
       "      <td>01:31:00 PM</td>\n",
       "      <td>m</td>\n",
       "      <td>no</td>\n",
       "      <td>190625</td>\n",
       "      <td>09:09:00 AM</td>\n",
       "      <td>Aedes aegypti</td>\n",
       "    </tr>\n",
       "    <tr>\n",
       "      <th>4</th>\n",
       "      <td>190626-03-top</td>\n",
       "      <td>100ul_milliQ_water</td>\n",
       "      <td>190626</td>\n",
       "      <td>01:52:00 PM</td>\n",
       "      <td>02:08:00 PM</td>\n",
       "      <td>missing</td>\n",
       "      <td>no</td>\n",
       "      <td>190625</td>\n",
       "      <td>09:09:00 AM</td>\n",
       "      <td>Aedes aegypti</td>\n",
       "    </tr>\n",
       "  </tbody>\n",
       "</table>\n",
       "</div>"
      ],
      "text/plain": [
       "          animal_ID      treatment_odor  experiment_date acclimate_start  \\\n",
       "0     190626-01-top  100ul_milliQ_water           190626     12:34:00 PM   \n",
       "1  190626-01-bottom  100ul_milliQ_water           190626     12:34:00 PM   \n",
       "2     190626-02-top  100ul_milliQ_water           190626     01:15:00 PM   \n",
       "3  190626-02-bottom  100ul_milliQ_water           190626     01:15:00 PM   \n",
       "4     190626-03-top  100ul_milliQ_water           190626     01:52:00 PM   \n",
       "\n",
       "  experiment_start      sex dead  starve_date  starve_time        species  \n",
       "0      12:51:00 PM        f   no       190625  09:09:00 AM  Aedes aegypti  \n",
       "1      12:51:00 PM        f   no       190625  09:09:00 AM  Aedes aegypti  \n",
       "2      01:31:00 PM        m   no       190625  09:09:00 AM  Aedes aegypti  \n",
       "3      01:31:00 PM        m   no       190625  09:09:00 AM  Aedes aegypti  \n",
       "4      02:08:00 PM  missing   no       190625  09:09:00 AM  Aedes aegypti  "
      ]
     },
     "execution_count": 11,
     "metadata": {},
     "output_type": "execute_result"
    }
   ],
   "source": [
    "df.head()"
   ]
  },
  {
   "cell_type": "code",
   "execution_count": 14,
   "metadata": {},
   "outputs": [
    {
     "data": {
      "text/plain": [
       "24"
      ]
     },
     "execution_count": 14,
     "metadata": {},
     "output_type": "execute_result"
    }
   ],
   "source": [
    "len(df.index)\n",
    "len(aegypti)"
   ]
  },
  {
   "cell_type": "code",
   "execution_count": 19,
   "metadata": {},
   "outputs": [
    {
     "data": {
      "text/plain": [
       "24"
      ]
     },
     "execution_count": 19,
     "metadata": {},
     "output_type": "execute_result"
    }
   ],
   "source": [
    "alive=aegypti[aegypti[\"dead\"]!=\"yes\"]\n",
    "len(alive)"
   ]
  },
  {
   "cell_type": "code",
   "execution_count": 20,
   "metadata": {},
   "outputs": [
    {
     "data": {
      "text/plain": [
       "array(['100ul_milliQ_water'], dtype=object)"
      ]
     },
     "execution_count": 20,
     "metadata": {},
     "output_type": "execute_result"
    }
   ],
   "source": [
    "aegypti[\"treatment_odor\"].unique()"
   ]
  },
  {
   "cell_type": "code",
   "execution_count": 27,
   "metadata": {},
   "outputs": [
    {
     "name": "stdout",
     "output_type": "stream",
     "text": [
      "74\n",
      "78\n"
     ]
    },
    {
     "data": {
      "text/plain": [
       "array(['100ul_milliQ_water', '100ul_quinine', '05_percent_food'], dtype=object)"
      ]
     },
     "execution_count": 27,
     "metadata": {},
     "output_type": "execute_result"
    }
   ],
   "source": [
    "albopictus=df[ df[\"species\"]==\"Aedes albopictus\"]\n",
    "alive=albopictus[albopictus[\"dead\"]!=\"yes\"]\n",
    "print(len(alive))\n",
    "print(len(albopictus))\n",
    "albopictus[\"treatment_odor\"].unique()"
   ]
  },
  {
   "cell_type": "code",
   "execution_count": 34,
   "metadata": {},
   "outputs": [
    {
     "name": "stdout",
     "output_type": "stream",
     "text": [
      "23 100ul_milliQ_water\n",
      "27 100ul_quinine\n",
      "24 05_percent_food\n"
     ]
    }
   ],
   "source": [
    "for item in alive[\"treatment_odor\"].unique():\n",
    "    temp=alive[alive[\"treatment_odor\"]==item]\n",
    "    print(len(temp),item)"
   ]
  },
  {
   "cell_type": "code",
   "execution_count": 38,
   "metadata": {},
   "outputs": [
    {
     "name": "stdout",
     "output_type": "stream",
     "text": [
      "23 100ul_milliQ_water\n",
      "18 100ul_quinine\n"
     ]
    }
   ],
   "source": [
    "alive=albopictus[albopictus[\"dead\"]==\"no\"]\n",
    "for item in alive[\"treatment_odor\"].unique():\n",
    "    temp=alive[alive[\"treatment_odor\"]==item]\n",
    "    print(len(temp),item)"
   ]
  },
  {
   "cell_type": "markdown",
   "metadata": {},
   "source": [
    "# this code gives the number of confirmed alive and undead individuals for a treatment odor; you need to change the name in species=\"\""
   ]
  },
  {
   "cell_type": "code",
   "execution_count": 55,
   "metadata": {},
   "outputs": [
    {
     "name": "stdout",
     "output_type": "stream",
     "text": [
      "number of confirmed alive individuals Aedes albopictus\n",
      "23 100ul_milliQ_water\n",
      "18 100ul_quinine\n",
      "not dead Aedes albopictus\n",
      "23 100ul_milliQ_water\n",
      "27 100ul_quinine\n",
      "24 05_percent_food\n"
     ]
    }
   ],
   "source": [
    "species=\"Aedes albopictus\"\n",
    "\n",
    "print(\"number of confirmed alive individuals\",species)\n",
    "animals=df[ df[\"species\"]==species]\n",
    "alive=animals[animals[\"dead\"]==\"no\"]\n",
    "for item in alive[\"treatment_odor\"].unique():\n",
    "    temp=alive[alive[\"treatment_odor\"]==item]\n",
    "    print(len(temp),item)\n",
    "    \n",
    "print(\"not dead\",species)\n",
    "notdead=animals[animals[\"dead\"]!=\"yes\"]\n",
    "for item in notdead[\"treatment_odor\"].unique():\n",
    "    temp2=notdead[notdead[\"treatment_odor\"]==item]\n",
    "    print(len(temp2),item)"
   ]
  },
  {
   "cell_type": "code",
   "execution_count": null,
   "metadata": {
    "collapsed": true
   },
   "outputs": [],
   "source": []
  }
 ],
 "metadata": {
  "kernelspec": {
   "display_name": "Python 3",
   "language": "python",
   "name": "python3"
  },
  "language_info": {
   "codemirror_mode": {
    "name": "ipython",
    "version": 3
   },
   "file_extension": ".py",
   "mimetype": "text/x-python",
   "name": "python",
   "nbconvert_exporter": "python",
   "pygments_lexer": "ipython3",
   "version": "3.5.2"
  }
 },
 "nbformat": 4,
 "nbformat_minor": 2
}
